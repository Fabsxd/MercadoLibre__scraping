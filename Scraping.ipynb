{
 "cells": [
  {
   "cell_type": "code",
   "execution_count": 23,
   "metadata": {},
   "outputs": [],
   "source": [
    "\n",
    "import requests\n",
    "import pandas as pd\n",
    "import json\n",
    "from bs4 import BeautifulSoup\n",
    "from selenium import webdriver\n",
    "from webdriver_manager.chrome import ChromeDriverManager"
   ]
  },
  {
   "cell_type": "code",
   "execution_count": 24,
   "metadata": {},
   "outputs": [],
   "source": [
    "url = 'https://listado.mercadolibre.com.co/proteina#D[A:proteina]'\n",
    "page = requests.get(url)\n",
    "soup = BeautifulSoup(page.text, 'html.parser')\n"
   ]
  },
  {
   "cell_type": "code",
   "execution_count": 25,
   "metadata": {},
   "outputs": [
    {
     "data": {
      "text/plain": [
       "'Bi Pro, Proteina Bipro Envío Gratis - L a $68950$149.900$137.9008% OFFen 3 cuotas de $45.967 con 0% interésEnvío gratisEnviado por Calificación 4,8 de 5 (1,506 calificaciones)4.8    (1506)Promocionado'"
      ]
     },
     "execution_count": 25,
     "metadata": {},
     "output_type": "execute_result"
    }
   ],
   "source": [
    "soup.select('div[class=\"ui-search-result__wrapper\"]')[0].text\n",
    "# for i in data:\n",
    "#    print(i.text)"
   ]
  },
  {
   "cell_type": "code",
   "execution_count": null,
   "metadata": {},
   "outputs": [
    {
     "name": "stdout",
     "output_type": "stream",
     "text": [
      "{'Producto': 'Bi Pro, Proteina Bipro Envío Gratis - L a $68950', 'Precio': '149.900', 'Descuento': '8% OFF', 'Tiempo de entrega': None}\n",
      "{'Producto': 'Bi Pro, Proteina Bipro 3lb - L a $64967', 'Precio': '209.900', 'Descuento': '7% OFF', 'Tiempo de entrega': None}\n",
      "{'Producto': 'Bi Pro, Proteina Bipro Envío Gratis - L a $68950', 'Precio': '149.900', 'Descuento': '8% OFF', 'Tiempo de entrega': None}\n",
      "{'Producto': 'Proteina Whey Pure 2 Lb Smart - g a $119', 'Precio': '127.500', 'Descuento': '15% OFF', 'Tiempo de entrega': None}\n",
      "{'Producto': 'Bi Pro, Proteina Bipro 3lb - L a $64967', 'Precio': '209.900', 'Descuento': '7% OFF', 'Tiempo de entrega': None}\n",
      "{'Producto': 'Whey Gold Standard 5lb - Optimum Nutrition + Envío Gratis', 'Precio': '410.000', 'Descuento': '18% OFF', 'Tiempo de entrega': None}\n",
      "{'Producto': 'Whey Premium 5 Lb Egp Elite Gold Pure 5lb 5 Libras Proteina Limpia', 'Precio': '206.000', 'Descuento': None, 'Tiempo de entrega': None}\n",
      "{'Producto': 'Proteina Iso 100 5 L Hydrolized - Unidad a $446165', 'Precio': '524.900', 'Descuento': '15% OFF', 'Tiempo de entrega': None}\n",
      "{'Producto': 'Ensure Advance Vainilla 850g - g a $139', 'Precio': '126.789', 'Descuento': '7% OFF', 'Tiempo de entrega': None}\n",
      "{'Producto': 'Whey Gold Standard 2lb - Optimum Nutrition + Envío Gratis', 'Precio': '220.000', 'Descuento': '13% OFF', 'Tiempo de entrega': None}\n",
      "{'Producto': 'Gold Standard Isolate 5 Lb Proteína Limpia + Envío Gratis', 'Precio': '460.000', 'Descuento': '18% OFF', 'Tiempo de entrega': None}\n",
      "{'Producto': '100% Whey Premium 5 Lb Egp Elite Gold Pure 5lb 5 Libras Smart Protein Proteina Limpia', 'Precio': '208.000', 'Descuento': None, 'Tiempo de entrega': None}\n",
      "{'Producto': 'Proteina Whey Pure 5 Libras', 'Precio': '258.000', 'Descuento': '15% OFF', 'Tiempo de entrega': None}\n",
      "{'Producto': 'Proteina Iso 100 1.3 Lb 20 Serv - mL a $184365', 'Precio': '216.900', 'Descuento': '15% OFF', 'Tiempo de entrega': None}\n",
      "{'Producto': 'Fit Bar, Barra Proteína, Nutrame - Unidad a $109900', 'Precio': '119.900', 'Descuento': '8% OFF', 'Tiempo de entrega': None}\n",
      "{'Producto': 'Colageno Hidrolizado 100% X 1 Kg - U - Kg a $119900', 'Precio': '119.900', 'Descuento': None, 'Tiempo de entrega': None}\n",
      "{'Producto': 'Proteina Whey Pure 5 Libras - L a $41990', 'Precio': '247.000', 'Descuento': '15% OFF', 'Tiempo de entrega': None}\n",
      "{'Producto': 'Proteina Bipro Mass, Bi Pro Mass', 'Precio': '149.900', 'Descuento': '8% OFF', 'Tiempo de entrega': None}\n",
      "{'Producto': 'Proteina Whey Pure 2 Libras - L a $52615', 'Precio': '123.800', 'Descuento': '15% OFF', 'Tiempo de entrega': None}\n",
      "{'Producto': 'Bi-pro Mass 3 Lbs+1hmb+8grbcaa - L a $49967', 'Precio': '149.900', 'Descuento': None, 'Tiempo de entrega': None}\n",
      "{'Producto': 'Gold Standard Natural 4.8 Lb', 'Precio': '389.000', 'Descuento': '14% OFF', 'Tiempo de entrega': None}\n",
      "{'Producto': 'Proteina Vegana Best Vegan - L a $55250', 'Precio': '130.000', 'Descuento': '15% OFF', 'Tiempo de entrega': None}\n",
      "{'Producto': 'Proteina Smart 3,25lb Proscienc - Unidad a $84900', 'Precio': '84.900', 'Descuento': None, 'Tiempo de entrega': None}\n",
      "{'Producto': 'Proteina Smart 3.25 Lb - g a $54', 'Precio': '94.000', 'Descuento': '15% OFF', 'Tiempo de entrega': None}\n",
      "{'Producto': 'Whey Pure 5lb Proteina Whey', 'Precio': '247.000', 'Descuento': '15% OFF', 'Tiempo de entrega': None}\n",
      "{'Producto': 'Proteina Limpia  Isolate Total 5 Libras De Best Elite 5lb 5 Lb Gourmet Vainilla Iso 100 %', 'Precio': '350.000', 'Descuento': '15% OFF', 'Tiempo de entrega': None}\n",
      "{'Producto': 'Proteina Iso 100 20 Servicios - g a $304', 'Precio': '222.000', 'Descuento': '15% OFF', 'Tiempo de entrega': None}\n",
      "{'Producto': 'Bi Pro Proteina Bipro 2lbs - L a $74950', 'Precio': '149.900', 'Descuento': None, 'Tiempo de entrega': None}\n",
      "{'Producto': 'Whey Premium 5 Lb Egp Elite Gold Pure 5lb 5 Libras Smart Protein Proteina Nutrition Limpia', 'Precio': '219.900', 'Descuento': None, 'Tiempo de entrega': None}\n",
      "{'Producto': '100% Whey Protein Concentrate (1kg 2.2lbs) Sin Sabor Protein', 'Precio': '119.999', 'Descuento': None, 'Tiempo de entrega': None}\n",
      "{'Producto': '100% Whey Total De Best Elite 5 Lb Pure Protein 5 Libras 5lb Proteina Limpia Smart Gold Nutrition Iso', 'Precio': '250.000', 'Descuento': None, 'Tiempo de entrega': None}\n",
      "{'Producto': 'Colageno Hidrolizado 100% X 500 G - Unidad a $66900', 'Precio': '66.900', 'Descuento': None, 'Tiempo de entrega': None}\n",
      "{'Producto': 'Whey Elite 10lbs Vitanas ¡envío Y Obsequios Gratis!', 'Precio': '500.000', 'Descuento': '5% OFF', 'Tiempo de entrega': None}\n",
      "{'Producto': 'Colágeno Hidrolizado Puro X500g -1 Libra - g a $126', 'Precio': '62.900', 'Descuento': None, 'Tiempo de entrega': None}\n",
      "{'Producto': 'Serious Mass 6 Lb Hipercalórica + Envío Gratis', 'Precio': '239.000', 'Descuento': '20% OFF', 'Tiempo de entrega': None}\n",
      "{'Producto': 'Tnt Mega Mass Gainer De 3 Lbs Proteína ', 'Precio': '78.000', 'Descuento': None, 'Tiempo de entrega': None}\n",
      "{'Producto': 'Proteina Bipro Classic 3 Libras - Unidad a $209900', 'Precio': '220.950', 'Descuento': '5% OFF', 'Tiempo de entrega': None}\n",
      "{'Producto': 'Tnt Mega Mass Gainer 6lbs - L a $25833', 'Precio': '155.000', 'Descuento': None, 'Tiempo de entrega': None}\n",
      "{'Producto': 'Proteína Hipercalórica 5 Lb Super Mega Ga - g a $51', 'Precio': '122.900', 'Descuento': '5% OFF', 'Tiempo de entrega': None}\n",
      "{'Producto': '100% Whey Elite - 5 Libras - Proteína Limpia ¡envio Gratis!', 'Precio': '278.000', 'Descuento': None, 'Tiempo de entrega': None}\n",
      "{'Producto': 'Colágeno Hidrolizado 100% Puro - Unidad a $32900', 'Precio': '32.900', 'Descuento': None, 'Tiempo de entrega': None}\n",
      "{'Producto': 'Super Mega Gainer 5lbs+creatina', 'Precio': '146.211', 'Descuento': '10% OFF', 'Tiempo de entrega': None}\n",
      "{'Producto': '100% Whey Protein Limpia 1.0 Kg - Kg a $122900', 'Precio': '122.900', 'Descuento': None, 'Tiempo de entrega': None}\n",
      "{'Producto': 'Megaplex Creatine Power 10 Libras   ', 'Precio': '219.000', 'Descuento': None, 'Tiempo de entrega': None}\n",
      "{'Producto': 'Megaplex Creatine Power, Creatine Power 2 - g a $66', 'Precio': '60.000', 'Descuento': None, 'Tiempo de entrega': None}\n",
      "{'Producto': 'Megaplex Creatine Power, Creatine Powe - L a $19590', 'Precio': '220.000', 'Descuento': '10% OFF', 'Tiempo de entrega': None}\n",
      "{'Producto': 'Iso Clean 2lb, Isoclean Nutramerican Pha - g a $163', 'Precio': '159.900', 'Descuento': '7% OFF', 'Tiempo de entrega': None}\n",
      "{'Producto': 'Proteina Mass Evolution 10 Lb - Unidad a $139400', 'Precio': '170.000', 'Descuento': '18% OFF', 'Tiempo de entrega': None}\n",
      "{'Producto': 'Proteína Whey Isolate - L a $35000', 'Precio': '175.000', 'Descuento': None, 'Tiempo de entrega': None}\n",
      "{'Producto': 'Proteina Aislada De Soya 1 Kg - Unidad a $56900', 'Precio': '56.900', 'Descuento': None, 'Tiempo de entrega': None}\n",
      "{'Producto': 'Ensure Advance Polvo X 850gr - g a $139', 'Precio': '118.000', 'Descuento': None, 'Tiempo de entrega': None}\n",
      "{'Producto': 'Gold Standard 100% Isolate 3 Lb + Envío Gratis', 'Precio': '360.000', 'Descuento': '19% OFF', 'Tiempo de entrega': None}\n"
     ]
    }
   ],
   "source": [
    "for i in soup.find_all(\"div\", class_=\"ui-search-result__wrapper\"):\n",
    "    producto = {\n",
    "        \"Producto\": i.find(class_=\"poly-component__title\").text if i.find(class_=\"poly-component__title\") else None,\n",
    "        \"Precio\": i.find(class_=\"andes-money-amount__fraction\").text if i.find(class_=\"andes-money-amount__fraction\") else None,\n",
    "        \"Descuento\": i.find(class_=\"andes-money-amount__discount\").text if i.find(class_=\"andes-money-amount__discount\") else None,\n",
    "        \"Tiempo de entrega\": i.find(class_=\"poly-shipping--next_day\").text if i.find(class_=\"poly-shipping--next_day\") else None,\n",
    "    }\n",
    "    # Aquí puedes hacer algo con el diccionario 'producto', como agregarlo a una lista.\n",
    "\n",
    "    print(producto)"
   ]
  },
  {
   "cell_type": "code",
   "execution_count": null,
   "metadata": {},
   "outputs": [],
   "source": [
    "soup.find(class_=\"poly-component__title\").text\n",
    "# precios = soup1.find_all(class_=\"andes-money-amount__fraction\")\n",
    "# descuentos = soup1.find_all(class_=\"andes-money-amount__discount\")\n",
    "# tiempo_llegada = soup1.find_all(class_=\"poly-shipping--next_day\")\n",
    "# for x, y , z in zip(nombres, precios, descuentos):\n",
    "#   print(f'{x.text} // {y.text} // {z.text}')"
   ]
  },
  {
   "cell_type": "code",
   "execution_count": 36,
   "metadata": {},
   "outputs": [
    {
     "name": "stdout",
     "output_type": "stream",
     "text": [
      "137.900 149.900\n",
      "194.900 209.900\n",
      "137.900 149.900\n",
      "108.375 127.500\n",
      "194.900 209.900\n",
      "335.900 410.000\n",
      "206.000 Sin precio anterior\n",
      "446.165 524.900\n",
      "117.913 126.789\n",
      "189.900 220.000\n",
      "376.900 460.000\n",
      "208.000 Sin precio anterior\n",
      "219.300 258.000\n",
      "184.365 216.900\n",
      "109.900 119.900\n",
      "119.900 Sin precio anterior\n",
      "209.950 247.000\n",
      "137.900 149.900\n",
      "105.230 123.800\n",
      "149.900 Sin precio anterior\n",
      "333.900 389.000\n",
      "110.500 130.000\n",
      "84.900 Sin precio anterior\n",
      "79.900 94.000\n",
      "209.950 247.000\n",
      "297.500 350.000\n",
      "188.700 222.000\n",
      "149.900 Sin precio anterior\n",
      "219.900 Sin precio anterior\n",
      "119.999 Sin precio anterior\n",
      "250.000 Sin precio anterior\n",
      "66.900 Sin precio anterior\n",
      "475.000 500.000\n",
      "62.900 Sin precio anterior\n",
      "188.900 239.000\n",
      "78.000 Sin precio anterior\n",
      "209.900 220.950\n",
      "155.000 Sin precio anterior\n",
      "116.755 122.900\n",
      "278.000 Sin precio anterior\n",
      "32.900 Sin precio anterior\n",
      "131.589 146.211\n",
      "122.900 Sin precio anterior\n",
      "219.000 Sin precio anterior\n",
      "60.000 Sin precio anterior\n",
      "195.900 220.000\n",
      "147.900 159.900\n",
      "139.400 170.000\n",
      "175.000 Sin precio anterior\n",
      "56.900 Sin precio anterior\n",
      "118.000 Sin precio anterior\n",
      "289.900 360.000\n"
     ]
    }
   ],
   "source": [
    "for n in soup.find_all(\"div\", class_=\"ui-search-result__wrapper\"):\n",
    "    a = n.find(\"s\", class_=\"andes-money-amount andes-money-amount--previous andes-money-amount--cents-comma\") \n",
    "    if a: \n",
    "        a2= a.find(\"span\", class_=\"andes-money-amount__fraction\" ) \n",
    "        precio_anterior = a2.text.strip() if a2 else \"Sin precio anterior\"\n",
    "    else:\n",
    "        precio_anterior = \"Sin precio anterior\"\n",
    "\n",
    "    b = n.find(\"span\", class_=\"andes-money-amount andes-money-amount--cents-superscript\") \n",
    "    if b:\n",
    "        b2 = b.find(\"span\", class_=\"andes-money-amount__fraction\")\n",
    "        precio_final = b2.text.strip() if b2 else \"Sin precio final\"\n",
    "    else:\n",
    "        precio_final = \"Sin precio final\"\n",
    "    print(precio_final , precio_anterior)"
   ]
  },
  {
   "cell_type": "code",
   "execution_count": null,
   "metadata": {},
   "outputs": [],
   "source": []
  }
 ],
 "metadata": {
  "kernelspec": {
   "display_name": "Python 3",
   "language": "python",
   "name": "python3"
  },
  "language_info": {
   "codemirror_mode": {
    "name": "ipython",
    "version": 3
   },
   "file_extension": ".py",
   "mimetype": "text/x-python",
   "name": "python",
   "nbconvert_exporter": "python",
   "pygments_lexer": "ipython3",
   "version": "3.13.0"
  }
 },
 "nbformat": 4,
 "nbformat_minor": 2
}
