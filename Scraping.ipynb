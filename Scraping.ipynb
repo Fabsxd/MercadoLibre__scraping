{
 "cells": [
  {
   "cell_type": "code",
   "execution_count": 1,
   "metadata": {},
   "outputs": [],
   "source": [
    "\n",
    "import requests\n",
    "import pandas as pd\n",
    "import json\n",
    "from bs4 import BeautifulSoup\n",
    "from selenium import webdriver\n",
    "from webdriver_manager.chrome import ChromeDriverManager"
   ]
  },
  {
   "cell_type": "code",
   "execution_count": 2,
   "metadata": {},
   "outputs": [],
   "source": [
    "url = 'https://listado.mercadolibre.com.co/proteina#D[A:proteina]'\n",
    "page = requests.get(url)\n",
    "soup1 = BeautifulSoup(page.text, 'html.parser')\n",
    "data = soup1.select('div[class=\"ui-search-result__wrapper\"]')"
   ]
  },
  {
   "cell_type": "code",
   "execution_count": 3,
   "metadata": {},
   "outputs": [
    {
     "name": "stdout",
     "output_type": "stream",
     "text": [
      "Bi Pro, Proteina Bipro 3lb - L a $64967$209.900$194.9007% OFFen 3 cuotas de $64.967 con 0% interésEnvío gratisEnviado por Calificación 4,9 de 5 (291 calificaciones)4.9    (291)Promocionado\n",
      "Bi Pro, Proteina Bipro Envío Gratis - L a $68950$149.900$137.9008% OFFen 3 cuotas de $45.967 con 0% interésEnvío gratisEnviado por Calificación 4,8 de 5 (1,502 calificaciones)4.8    (1502)Promocionado\n",
      "Proteina Whey Pure 2 Lb Smart - g a $119$127.500$108.37515% OFFen 3 cuotas de $36.125 con 0% interésEnvío gratisEnviado por Calificación 4,8 de 5 (298 calificaciones)4.8    (298)\n",
      "Bi Pro, Proteina Bipro 3lb - L a $64967$209.900$194.9007% OFFen 3 cuotas de $64.967 con 0% interésEnvío gratisEnviado por Calificación 4,9 de 5 (291 calificaciones)4.9    (291)\n",
      "Proteina Iso 100 5 L Hydrolized - Unidad a $446165$524.900$446.16515% OFFen 3 cuotas de $148.722 con 0% interésEnvío gratisEnviado por Calificación 4,9 de 5 (92 calificaciones)4.9    (92)\n",
      "Whey Gold Standard 5lb - Optimum Nutrition + Envío GratisPor Optimum Nutrition $410.000$335.90018% OFFen 3 cuotas de $111.967 con 0% interésEnvío gratisCalificación 4,7 de 5 (580 calificaciones)4.7    (580)\n",
      "Whey Premium 5 Lb Egp Elite Gold Pure 5lb 5 Libras Proteina Limpia$206.000en 3 cuotas de $68.667 con 0% interésEnvío gratisEnviado por Calificación 4,7 de 5 (145 calificaciones)4.7    (145)\n",
      "MÁS VENDIDOBi Pro, Proteina Bipro Envío Gratis - L a $68950$149.900$137.9008% OFFen 3 cuotas de $45.967 con 0% interésEnvío gratisEnviado por Calificación 4,8 de 5 (1,502 calificaciones)4.8    (1502)\n",
      "100% Whey Premium 5 Lb Egp Elite Gold Pure 5lb 5 Libras Smart Protein Proteina Limpia$208.000en 3 cuotas de $69.333 con 0% interésEnvío gratisEnviado por Calificación 4,8 de 5 (181 calificaciones)4.8    (181)\n",
      "Proteina Whey Pure 5 Libras$258.000$219.30015% OFFen 3 cuotas de $73.100 con 0% interésEnvío gratisEnviado por Calificación 4,9 de 5 (258 calificaciones)4.9    (258)\n",
      "Colageno Hidrolizado 100% X 1 Kg - U - Kg a $119900$119.900en 3 cuotas de $39.967 con 0% interésEnvío gratisEnviado por Calificación 4,8 de 5 (410 calificaciones)4.8    (410)\n",
      "Ensure Advance Vainilla 850g - g a $139$126.789$117.9137% OFFen 3 cuotas de $39.304 con 0% interésEnvío gratisEnviado por Calificación 4,8 de 5 (197 calificaciones)4.8    (197)\n",
      "Megaplex Creatine Power, Creatine Powe - L a $19590$220.000$195.90010% OFFen 3 cuotas de $65.300 con 0% interésEnvío gratisEnviado por Calificación 4,8 de 5 (235 calificaciones)4.8    (235)\n",
      "OPTIMUM NUTRITIONSerious Mass 12 Lb - Optimum Nutrition + Envío Gratis$395.000$323.90018% OFFen 3 cuotas de $107.967 con 0% interésEnvío gratisEnviado por Calificación 4,7 de 5 (162 calificaciones)4.7    (162)\n",
      "Proteina Whey Pure 5 Libras - L a $41990$247.000$209.95015% OFFen 3 cuotas de $69.983 con 0% interésEnvío gratisEnviado por Calificación 4,9 de 5 (70 calificaciones)4.9    (70)\n",
      "Proteina Bipro Mass, Bi Pro Mass$149.900$137.9008% OFFen 3 cuotas de $45.967 con 0% interésEnvío gratisEnviado por Calificación 4,7 de 5 (233 calificaciones)4.7    (233)\n",
      "MEGAPLEXBi-pro Mass 3 Lbs+1hmb+8grbcaa - L a $49967$149.900en 3 cuotas de $49.967 con 0% interésEnvío gratisEnviado por Calificación 4,8 de 5 (254 calificaciones)4.8    (254)\n",
      "Whey Gold Standard 2lb - Optimum Nutrition + Envío Gratis$220.000$189.90013% OFFen 12 cuotas de $15.825 con 0% interésEnvío gratisEnviado por Calificación 4,7 de 5 (434 calificaciones)4.7    (434)\n",
      "Proteina Whey Pure 2 Libras - L a $52615$123.800$105.23015% OFFen 3 cuotas de $35.077 con 0% interésEnvío gratisEnviado por Calificación 4,8 de 5 (12 calificaciones)4.8    (12)\n",
      "Proteina Smart 3,25lb Proscienc - Unidad a $84900$84.900en 3 cuotas de $28.300 con 0% interésEnvío gratisEnviado por Calificación 4,8 de 5 (139 calificaciones)4.8    (139)\n",
      "Proteina Smart 3.25 Lb - g a $54$94.000$79.90015% OFFen 3 cuotas de $26.633 con 0% interésEnvío gratisEnviado por Calificación 4,7 de 5 (469 calificaciones)4.7    (469)\n",
      "Whey Pure 5lb Proteina Whey$247.000$209.95015% OFFen 3 cuotas de $69.983 con 0% interésEnvío gratisEnviado por Calificación 4,8 de 5 (80 calificaciones)4.8    (80)\n",
      "Proteina Limpia  Isolate Total 5 Libras De Best Elite 5lb 5 Lb Gourmet Vainilla Iso 100 %$350.000$297.50015% OFFen 3 cuotas de $99.167 con 0% interésEnvío gratisEnviado por Calificación 4,8 de 5 (43 calificaciones)4.8    (43)\n",
      "Proteina Iso 100 20 Servicios - g a $304$222.000$188.70015% OFFen 3 cuotas de $62.900 con 0% interésEnvío gratisEnviado por Calificación 4,8 de 5 (97 calificaciones)4.8    (97)\n",
      "Bi Pro Proteina Bipro 2lbs - L a $74950$149.900en 3 cuotas de $49.967 con 0% interésEnvío gratisEnviado por Calificación 4,9 de 5 (178 calificaciones)4.9    (178)\n",
      "Whey Premium 5 Lb Egp Elite Gold Pure 5lb 5 Libras Smart Protein Proteina Nutrition Limpia$219.900en 3 cuotas de $73.300 con 0% interésEnvío gratisEnviado por Calificación 4,8 de 5 (234 calificaciones)4.8    (234)\n",
      "100% Whey Protein Concentrate (1kg 2.2lbs) Sin Sabor Protein$119.999en 3 cuotas de $40.000 con 0% interésEnvío gratisEnviado por Calificación 4,8 de 5 (117 calificaciones)4.8    (117)\n",
      "100% Whey Total De Best Elite 5 Lb Pure Protein 5 Libras 5lb Proteina Limpia Smart Gold Nutrition Iso$250.000en 3 cuotas de $83.333 con 0% interésEnvío gratisEnviado por Calificación 4,8 de 5 (306 calificaciones)4.8    (306)\n",
      "Colageno Hidrolizado 100% X 500 G - Unidad a $66900$66.900en 3 cuotas de $22.300 con 0% interésEnvío gratisEnviado por Calificación 4,8 de 5 (154 calificaciones)4.8    (154)\n",
      "OPTIMUM NUTRITIONHydrowhey 3.5 Lb Optimum Nutrition$460.000$416.9009% OFFen 3 cuotas de $138.967 con 0% interésEnvío gratisEnviado por Calificación 5 de 5 (4 calificaciones)5.0    (4)\n",
      "Whey Elite 10lbs Vitanas ¡envío Y Obsequios Gratis!$500.000$475.0005% OFFen 3 cuotas de $158.333 con 0% interésEnvío gratisEnviado por Calificación 4,8 de 5 (81 calificaciones)4.8    (81)\n",
      "OPTIMUM NUTRITIONSerious Mass 6 Lb Hipercalórica + Envío Gratis$239.000$188.90020% OFFen 3 cuotas de $62.967 con 0% interésEnvío gratisEnviado por Calificación 4,7 de 5 (155 calificaciones)4.7    (155)\n",
      "Vegan Protein 2 Lb 2 Libras 2lb  De Best Elite Pea Isolate Proteina Vegana  Arveja $110.000en 3 cuotas de $36.667 con 0% interésEnvío gratisEnviado por Calificación 4,9 de 5 (72 calificaciones)4.9    (72)\n",
      "Tnt Mega Mass Gainer 6lbs - L a $25833$155.000en 12 cuotas de $12.917 con 0% interésEnvío gratisEnviado por Calificación 4,8 de 5 (224 calificaciones)4.8    (224)\n",
      "Ensure Advance X 850 G - g a $135$130.602$111.01214% OFFen 12 cuotas de $9.251 con 0% interésEnvío gratisCalificación 4,7 de 5 (41 calificaciones)4.7    (41)\n",
      "Tnt Mega Mass Gainer De 3 Lbs Proteína $78.000en 3 cuotas de $26.000 con 0% interésEnvío gratisEnviado por Calificación 4,7 de 5 (97 calificaciones)4.7    (97)\n",
      "100% Whey Elite - 5 Libras - Proteína Limpia ¡envio Gratis!$278.000en 3 cuotas de $92.667 con 0% interésEnvío gratisEnviado por Calificación 4,9 de 5 (106 calificaciones)4.9    (106)\n",
      "Glucerna Polvo Vainilla X 850g - g a $135$130.667$111.06714% OFFen 12 cuotas de $9.256 con 0% interésEnvío gratisCalificación 4,8 de 5 (19 calificaciones)4.8    (19)\n",
      "Proteina Iso 100 1.3 Lb 20 Serv - mL a $184365$216.900$184.36515% OFFen 3 cuotas de $61.455 con 0% interésEnvío gratisEnviado por Calificación 4,7 de 5 (32 calificaciones)4.7    (32)\n",
      "Fit Bar, Barra Proteína, Nutrame - Unidad a $109900$119.900$109.9008% OFFen 3 cuotas de $36.633 con 0% interésEnvío gratisEnviado por Calificación 4,6 de 5 (69 calificaciones)4.6    (69)\n",
      "100% Whey Protein Limpia 1.0 Kg - Kg a $122900$122.900en 3 cuotas de $40.967 con 0% interésEnvío gratisEnviado por Calificación 4,8 de 5 (169 calificaciones)4.8    (169)\n",
      "Gold Standard Isolate 5 Lb Proteína Limpia + Envío GratisPor Optimum Nutrition $460.000$376.90018% OFFen 3 cuotas de $125.633 con 0% interésEnvío gratisCalificación 4,7 de 5 (226 calificaciones)4.7    (226)\n",
      "Iso Clean 2lb, Isoclean Nutramerican Pha - g a $163$159.900$147.9007% OFFen 3 cuotas de $49.300 con 0% interésEnvío gratisEnviado por Calificación 4,8 de 5 (51 calificaciones)4.8    (51)\n",
      "Proteina Bipro Classic 3 Libras - Unidad a $209900$220.950$209.9005% OFFen 3 cuotas de $69.967 con 0% interésEnvío gratisEnviado por Calificación 4,8 de 5 (27 calificaciones)4.8    (27)\n",
      "Proteina Mass Evolution 10 Lb - Unidad a $139400$170.000$139.40018% OFFen 3 cuotas de $46.467 con 0% interésEnvío gratisEnviado por Calificación 4,7 de 5 (70 calificaciones)4.7    (70)\n",
      "Proteina Aislada De Soya 1 Kg - Unidad a $56900$56.900en 3 cuotas de $18.967 con 0% interésEnviado por Calificación 4,8 de 5 (114 calificaciones)4.8    (114)\n",
      "Colágeno Hidrolizado Puro X500g -1 Libra - g a $126$62.900en 3 cuotas de $20.967 con 0% interésEnvío gratisCalificación 4,8 de 5 (208 calificaciones)4.8    (208)\n",
      "Proteina Vegana Best Vegan - g a $124$132.000$112.20015% OFFen 3 cuotas de $37.400 con 0% interésEnvío gratisEnviado por Calificación 4,6 de 5 (187 calificaciones)4.6    (187)\n",
      "Proteina Smart 6 Lb - Unidad a $135915$159.900$135.91515% OFFen 3 cuotas de $45.305 con 0% interésEnvío gratisEnviado por Calificación 4,6 de 5 (22 calificaciones)4.6    (22)\n",
      "Proteina Megaplex Creatine 2 Lb - Unidad a $60000$60.000en 3 cuotas de $20.000 con 0% interésEnvío gratisEnviado por Calificación 4,6 de 5 (57 calificaciones)4.6    (57)\n",
      "Megaplex Creatine Power, Creatine Power 2 - g a $66$60.000en 3 cuotas de $20.000 con 0% interésEnvío gratisEnviado por Calificación 4,7 de 5 (312 calificaciones)4.7    (312)\n",
      "Proteina Iso 100 5 L Hydrolyzed - L a $91485$519.800$457.42412% OFFen 3 cuotas de $152.475 con 0% interésEnvío gratisEnviado por Calificación 5 de 5 (27 calificaciones)5.0    (27)\n"
     ]
    }
   ],
   "source": [
    "for i in data:\n",
    "    print(i.text)"
   ]
  },
  {
   "cell_type": "code",
   "execution_count": null,
   "metadata": {},
   "outputs": [],
   "source": [
    "nombres = soup1.find_all(class_=\"poly-component__title\")\n",
    "for x in nombres:\n",
    "   print(x.text)"
   ]
  },
  {
   "cell_type": "code",
   "execution_count": null,
   "metadata": {},
   "outputs": [],
   "source": []
  }
 ],
 "metadata": {
  "kernelspec": {
   "display_name": "Python 3",
   "language": "python",
   "name": "python3"
  },
  "language_info": {
   "codemirror_mode": {
    "name": "ipython",
    "version": 3
   },
   "file_extension": ".py",
   "mimetype": "text/x-python",
   "name": "python",
   "nbconvert_exporter": "python",
   "pygments_lexer": "ipython3",
   "version": "3.13.0"
  }
 },
 "nbformat": 4,
 "nbformat_minor": 2
}
